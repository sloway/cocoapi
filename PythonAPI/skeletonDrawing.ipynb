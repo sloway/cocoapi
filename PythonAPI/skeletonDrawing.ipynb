{
 "cells": [
  {
   "cell_type": "markdown",
   "id": "c38511f6-e74c-4093-b7c9-100b604796d4",
   "metadata": {},
   "source": [
    "# Skeleton drawing"
   ]
  },
  {
   "cell_type": "code",
   "execution_count": 49,
   "id": "23276d87-4ad5-4de6-9231-3542a4b97fcc",
   "metadata": {},
   "outputs": [],
   "source": [
    "%matplotlib inline\n",
    "import pandas as pd\n",
    "import cv2\n",
    "from pycocotools.coco import COCO\n",
    "import numpy as np\n",
    "import skimage.io as io\n",
    "import matplotlib.pyplot as plt\n",
    "import pylab\n",
    "import os.path\n",
    "import json\n",
    "import tqdm\n",
    "pylab.rcParams['figure.figsize'] = (8.0, 10.0)"
   ]
  },
  {
   "cell_type": "markdown",
   "id": "c5beb2fc-a3b9-475a-936d-130321ffe712",
   "metadata": {},
   "source": [
    "#### Set annotation file path"
   ]
  },
  {
   "cell_type": "code",
   "execution_count": 26,
   "id": "76fc83d1-a6f7-4fed-bb9e-7962bba27910",
   "metadata": {},
   "outputs": [
    {
     "name": "stdout",
     "output_type": "stream",
     "text": [
      "../annotations/person_keypoints_val2017.json\n"
     ]
    },
    {
     "data": {
      "text/plain": [
       "True"
      ]
     },
     "execution_count": 26,
     "metadata": {},
     "output_type": "execute_result"
    }
   ],
   "source": [
    "annFolder = \"../annotations\"\n",
    "annFile = \"person_keypoints_val2017.json\"\n",
    "annPath = \"{}/{}\".format(annFolder, annFile)\n",
    "print(annPath)\n",
    "os.path.isfile(annPath)"
   ]
  },
  {
   "cell_type": "markdown",
   "id": "e972e506-7edd-4d9c-b4bc-49b090db2a61",
   "metadata": {},
   "source": [
    "#### Initialize COCO class for annotation"
   ]
  },
  {
   "cell_type": "code",
   "execution_count": 27,
   "id": "e32f5f44-9884-42f0-a34e-6e9f44ffa7a7",
   "metadata": {},
   "outputs": [
    {
     "name": "stdout",
     "output_type": "stream",
     "text": [
      "loading annotations into memory...\n",
      "Done (t=0.34s)\n",
      "creating index...\n",
      "index created!\n"
     ]
    }
   ],
   "source": [
    "coco=COCO(annPath)"
   ]
  },
  {
   "cell_type": "markdown",
   "id": "011f0795-6422-42b1-ad7f-31d602fd0858",
   "metadata": {},
   "source": [
    "#### Load input images from file"
   ]
  },
  {
   "cell_type": "code",
   "execution_count": 28,
   "id": "98dbd84b-abb4-420f-9c9c-b6cff03ee4f4",
   "metadata": {},
   "outputs": [
    {
     "data": {
      "text/html": [
       "<div>\n",
       "<style scoped>\n",
       "    .dataframe tbody tr th:only-of-type {\n",
       "        vertical-align: middle;\n",
       "    }\n",
       "\n",
       "    .dataframe tbody tr th {\n",
       "        vertical-align: top;\n",
       "    }\n",
       "\n",
       "    .dataframe thead th {\n",
       "        text-align: right;\n",
       "    }\n",
       "</style>\n",
       "<table border=\"1\" class=\"dataframe\">\n",
       "  <thead>\n",
       "    <tr style=\"text-align: right;\">\n",
       "      <th></th>\n",
       "      <th>imageID</th>\n",
       "      <th>filename</th>\n",
       "    </tr>\n",
       "  </thead>\n",
       "  <tbody>\n",
       "    <tr>\n",
       "      <th>0</th>\n",
       "      <td>3156</td>\n",
       "      <td>000000003156.jpg</td>\n",
       "    </tr>\n",
       "    <tr>\n",
       "      <th>1</th>\n",
       "      <td>5529</td>\n",
       "      <td>000000005529.jpg</td>\n",
       "    </tr>\n",
       "    <tr>\n",
       "      <th>2</th>\n",
       "      <td>9448</td>\n",
       "      <td>000000009448.jpg</td>\n",
       "    </tr>\n",
       "    <tr>\n",
       "      <th>3</th>\n",
       "      <td>9483</td>\n",
       "      <td>000000009483.jpg</td>\n",
       "    </tr>\n",
       "    <tr>\n",
       "      <th>4</th>\n",
       "      <td>10764</td>\n",
       "      <td>000000010764.jpg</td>\n",
       "    </tr>\n",
       "    <tr>\n",
       "      <th>...</th>\n",
       "      <td>...</td>\n",
       "      <td>...</td>\n",
       "    </tr>\n",
       "    <tr>\n",
       "      <th>249</th>\n",
       "      <td>568584</td>\n",
       "      <td>000000568584.jpg</td>\n",
       "    </tr>\n",
       "    <tr>\n",
       "      <th>250</th>\n",
       "      <td>573258</td>\n",
       "      <td>000000573258.jpg</td>\n",
       "    </tr>\n",
       "    <tr>\n",
       "      <th>251</th>\n",
       "      <td>578545</td>\n",
       "      <td>000000578545.jpg</td>\n",
       "    </tr>\n",
       "    <tr>\n",
       "      <th>252</th>\n",
       "      <td>578871</td>\n",
       "      <td>000000578871.jpg</td>\n",
       "    </tr>\n",
       "    <tr>\n",
       "      <th>253</th>\n",
       "      <td>581317</td>\n",
       "      <td>000000581317.jpg</td>\n",
       "    </tr>\n",
       "  </tbody>\n",
       "</table>\n",
       "<p>254 rows × 2 columns</p>\n",
       "</div>"
      ],
      "text/plain": [
       "     imageID          filename\n",
       "0       3156  000000003156.jpg\n",
       "1       5529  000000005529.jpg\n",
       "2       9448  000000009448.jpg\n",
       "3       9483  000000009483.jpg\n",
       "4      10764  000000010764.jpg\n",
       "..       ...               ...\n",
       "249   568584  000000568584.jpg\n",
       "250   573258  000000573258.jpg\n",
       "251   578545  000000578545.jpg\n",
       "252   578871  000000578871.jpg\n",
       "253   581317  000000581317.jpg\n",
       "\n",
       "[254 rows x 2 columns]"
      ]
     },
     "execution_count": 28,
     "metadata": {},
     "output_type": "execute_result"
    }
   ],
   "source": [
    "df = pd.read_csv(\"./inputImages.csv\")\n",
    "df"
   ]
  },
  {
   "cell_type": "code",
   "execution_count": 29,
   "id": "587feb0a-e6cf-4164-8cd5-de40c24e0f7e",
   "metadata": {},
   "outputs": [],
   "source": [
    "with open(\"./detectedPose.json\") as jsonFile:\n",
    "    detectedPose = json.load(jsonFile)\n",
    "    jsonFile.close();\n",
    "          \n",
    "#detectedPose"
   ]
  },
  {
   "cell_type": "code",
   "execution_count": null,
   "id": "8f354858-33e8-413e-b38a-3cc49bbc65c8",
   "metadata": {},
   "outputs": [],
   "source": []
  },
  {
   "cell_type": "code",
   "execution_count": 44,
   "id": "00b84216-0b07-4b14-89c0-eb033bb104d8",
   "metadata": {},
   "outputs": [],
   "source": [
    "lineConnection = [\n",
    "    (3, 1), # Left ear to Left eye\n",
    "    (4, 2), # Right ear to Right eye\n",
    "    (1, 0), # Left eye to Nose\n",
    "    (2, 0), # Right eye to Nose\n",
    "    (5, 6), # Left shoulder to Right shoulder\n",
    "    (5, 11), # Left shoulder to Left hip\n",
    "    (6, 12), # Right shoulder to Right hip\n",
    "    (11, 12), # Left hip to Right hip\n",
    "    (9, 7), # Left wrist to Left elbow\n",
    "    (7, 5), # Left elbow to Left shoulder\n",
    "    (10, 8), # Right wrist to Right elbow\n",
    "    (8, 6), # Right elbow to Right shoulder\n",
    "    (11, 13), # Left hip to Left knee\n",
    "    (13, 15), # Left knee to Left ankle\n",
    "    (12, 14), # Right hip to Right knee\n",
    "    (14, 16), # Right knee to Right ankle\n",
    "]\n",
    "\n",
    "def drawCircle(image, point, color=(255, 0, 0)):\n",
    "    return cv2.circle(image, point, 1, color, thickness=5)\n",
    "\n",
    "def isValidPoint(point):\n",
    "    return point[0] > 0 and point[1] > 0\n",
    "\n",
    "def drawLine(image, fromPoint, toPoint, color=(0, 255, 0)):\n",
    "    if isValidPoint(fromPoint) and isValidPoint(toPoint):        \n",
    "        return cv2.line(image, fromPoint, toPoint, color, thickness=2)\n",
    "    return image\n",
    "    \n",
    "def drawKeypointOnImage(image, keypoints, circleColor=(255, 0, 0), lineColor=(0, 255, 0)):\n",
    "    xs = keypoints[0::3]\n",
    "    ys = keypoints[1::3]\n",
    "    \n",
    "    for idx in range(len(lineConnection)):           \n",
    "        fromIdx = lineConnection[idx][0]\n",
    "        toIdx = lineConnection[idx][1]\n",
    "        \n",
    "        try:\n",
    "            fromPoint = (xs[fromIdx], ys[fromIdx])\n",
    "            toPoint = (xs[toIdx], ys[toIdx])        \n",
    "            image = drawLine(image, fromPoint, toPoint, lineColor)            \n",
    "        except:\n",
    "            continue\n",
    "    \n",
    "    try:\n",
    "        nosePoint = (xs[0], ys[0])\n",
    "        midShoulderPoint = (int((xs[5] + xs[6])/2), int((ys[5] + ys[6])/2))\n",
    "        image = drawLine(image, nosePoint, midShoulderPoint, lineColor)        \n",
    "    except:\n",
    "        pass\n",
    "        \n",
    "    for idx in range(len(xs)):\n",
    "        image = drawCircle(image, (xs[idx], ys[idx]), circleColor)        \n",
    "    \n",
    "    return cv2.cvtColor(image, cv2.COLOR_BGR2RGB)   "
   ]
  },
  {
   "cell_type": "code",
   "execution_count": null,
   "id": "64e88c58-1cae-4791-9c56-66c9c85791eb",
   "metadata": {},
   "outputs": [],
   "source": []
  },
  {
   "cell_type": "code",
   "execution_count": 31,
   "id": "20ccf864-9976-4568-b33c-be8af14d63a5",
   "metadata": {},
   "outputs": [],
   "source": [
    "def getFilename(imageID):\n",
    "    return f\"{imageID}.jpg\".zfill(16)"
   ]
  },
  {
   "cell_type": "code",
   "execution_count": 46,
   "id": "097a3eb8-f318-4fb4-876c-1acb5582d625",
   "metadata": {},
   "outputs": [],
   "source": [
    "def drawCocoKeypointOnImage(image, keypoints):    \n",
    "    circleColor = (0, 255, 0)\n",
    "    lineColor = (0, 0, 255)\n",
    "    return drawKeypointOnImage(image, keypoints, circleColor=circleColor, lineColor=lineColor)\n",
    "\n",
    "def drawMediapipeKeypointOnImage(image, keypoints):\n",
    "    circleColor = (255, 0, 0)\n",
    "    lineColor = (0, 255, 0)\n",
    "    return drawKeypointOnImage(image, keypoints, circleColor=circleColor, lineColor=lineColor)\n"
   ]
  },
  {
   "cell_type": "code",
   "execution_count": 51,
   "id": "a938b216-e5c8-4730-8505-0abbcb121fd9",
   "metadata": {},
   "outputs": [
    {
     "name": "stderr",
     "output_type": "stream",
     "text": [
      "100%|█████████████████████████████████████████| 254/254 [00:04<00:00, 55.66it/s]\n"
     ]
    }
   ],
   "source": [
    "fileDirectory = \"../images/mediapipeEvaluation\"\n",
    "for pose in tqdm.tqdm(detectedPose):\n",
    "    imageID = pose[\"image_id\"]\n",
    "    filename = getFilename(imageID)    \n",
    "        \n",
    "    image = cv2.imread('../images/val2017/'+filename)\n",
    "    image = cv2.cvtColor(image, cv2.COLOR_BGR2RGB)\n",
    "\n",
    "    annIds = coco.getAnnIds(imgIds=imageID)\n",
    "    anns = coco.loadAnns(annIds)\n",
    "        \n",
    "    annotatedImage = drawCocoKeypointOnImage(image.copy(), anns[0]['keypoints'])        \n",
    "    filepathToSave = f\"{fileDirectory}/{filename.replace('.jpg','_coco.jpg')}\"   \n",
    "    cv2.imwrite(filepathToSave, annotatedImage) \n",
    "    \n",
    "    annotatedImage = drawMediapipeKeypointOnImage(image.copy(), pose[\"keypoints\"])  \n",
    "    filepathToSave = f\"{fileDirectory}/{filename.replace('.jpg','_mp.jpg')}\"        \n",
    "    cv2.imwrite(filepathToSave, annotatedImage) \n",
    "    \n",
    "    "
   ]
  },
  {
   "cell_type": "code",
   "execution_count": null,
   "id": "3d90126e-daee-4085-a190-a55d31b3b281",
   "metadata": {},
   "outputs": [],
   "source": []
  },
  {
   "cell_type": "code",
   "execution_count": null,
   "id": "a9551afa-e8ac-42f2-a0aa-8c96f1e38180",
   "metadata": {},
   "outputs": [],
   "source": []
  }
 ],
 "metadata": {
  "kernelspec": {
   "display_name": "Python 3 (ipykernel)",
   "language": "python",
   "name": "python3"
  },
  "language_info": {
   "codemirror_mode": {
    "name": "ipython",
    "version": 3
   },
   "file_extension": ".py",
   "mimetype": "text/x-python",
   "name": "python",
   "nbconvert_exporter": "python",
   "pygments_lexer": "ipython3",
   "version": "3.7.11"
  }
 },
 "nbformat": 4,
 "nbformat_minor": 5
}
