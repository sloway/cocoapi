{
 "cells": [
  {
   "cell_type": "markdown",
   "id": "01429e8a-bc24-4867-91ad-650514180b92",
   "metadata": {},
   "source": [
    "# Pose Detection - Let's run pose detection of mediapipe\n",
    "\n",
    "### Input\n",
    "* Preprocessed image list (inputImages.csv)\n",
    "\n",
    "### Output\n",
    "* COCO Result data format [link](https://cocodataset.org/#format-results)"
   ]
  },
  {
   "cell_type": "code",
   "execution_count": 23,
   "id": "fb75d700-2152-442c-9683-0d4333244f87",
   "metadata": {},
   "outputs": [],
   "source": [
    "%matplotlib inline\n",
    "import pandas as pd\n",
    "import cv2\n",
    "import mediapipe as mp\n",
    "import numpy as np\n",
    "import matplotlib.pyplot as plt\n",
    "import pylab\n",
    "import json\n",
    "pylab.rcParams['figure.figsize'] = (8.0, 10.0)"
   ]
  },
  {
   "cell_type": "markdown",
   "id": "9629243b-afba-44af-8273-104c2ac317d0",
   "metadata": {},
   "source": [
    "#### Load images"
   ]
  },
  {
   "cell_type": "code",
   "execution_count": 4,
   "id": "da79a969-2cc0-474b-b27f-f84db866e7d5",
   "metadata": {},
   "outputs": [
    {
     "data": {
      "text/html": [
       "<div>\n",
       "<style scoped>\n",
       "    .dataframe tbody tr th:only-of-type {\n",
       "        vertical-align: middle;\n",
       "    }\n",
       "\n",
       "    .dataframe tbody tr th {\n",
       "        vertical-align: top;\n",
       "    }\n",
       "\n",
       "    .dataframe thead th {\n",
       "        text-align: right;\n",
       "    }\n",
       "</style>\n",
       "<table border=\"1\" class=\"dataframe\">\n",
       "  <thead>\n",
       "    <tr style=\"text-align: right;\">\n",
       "      <th></th>\n",
       "      <th>imageID</th>\n",
       "      <th>filename</th>\n",
       "    </tr>\n",
       "  </thead>\n",
       "  <tbody>\n",
       "    <tr>\n",
       "      <th>0</th>\n",
       "      <td>3156</td>\n",
       "      <td>000000003156.jpg</td>\n",
       "    </tr>\n",
       "    <tr>\n",
       "      <th>1</th>\n",
       "      <td>5529</td>\n",
       "      <td>000000005529.jpg</td>\n",
       "    </tr>\n",
       "    <tr>\n",
       "      <th>2</th>\n",
       "      <td>9448</td>\n",
       "      <td>000000009448.jpg</td>\n",
       "    </tr>\n",
       "    <tr>\n",
       "      <th>3</th>\n",
       "      <td>9483</td>\n",
       "      <td>000000009483.jpg</td>\n",
       "    </tr>\n",
       "    <tr>\n",
       "      <th>4</th>\n",
       "      <td>10764</td>\n",
       "      <td>000000010764.jpg</td>\n",
       "    </tr>\n",
       "    <tr>\n",
       "      <th>...</th>\n",
       "      <td>...</td>\n",
       "      <td>...</td>\n",
       "    </tr>\n",
       "    <tr>\n",
       "      <th>249</th>\n",
       "      <td>568584</td>\n",
       "      <td>000000568584.jpg</td>\n",
       "    </tr>\n",
       "    <tr>\n",
       "      <th>250</th>\n",
       "      <td>573258</td>\n",
       "      <td>000000573258.jpg</td>\n",
       "    </tr>\n",
       "    <tr>\n",
       "      <th>251</th>\n",
       "      <td>578545</td>\n",
       "      <td>000000578545.jpg</td>\n",
       "    </tr>\n",
       "    <tr>\n",
       "      <th>252</th>\n",
       "      <td>578871</td>\n",
       "      <td>000000578871.jpg</td>\n",
       "    </tr>\n",
       "    <tr>\n",
       "      <th>253</th>\n",
       "      <td>581317</td>\n",
       "      <td>000000581317.jpg</td>\n",
       "    </tr>\n",
       "  </tbody>\n",
       "</table>\n",
       "<p>254 rows × 2 columns</p>\n",
       "</div>"
      ],
      "text/plain": [
       "     imageID          filename\n",
       "0       3156  000000003156.jpg\n",
       "1       5529  000000005529.jpg\n",
       "2       9448  000000009448.jpg\n",
       "3       9483  000000009483.jpg\n",
       "4      10764  000000010764.jpg\n",
       "..       ...               ...\n",
       "249   568584  000000568584.jpg\n",
       "250   573258  000000573258.jpg\n",
       "251   578545  000000578545.jpg\n",
       "252   578871  000000578871.jpg\n",
       "253   581317  000000581317.jpg\n",
       "\n",
       "[254 rows x 2 columns]"
      ]
     },
     "execution_count": 4,
     "metadata": {},
     "output_type": "execute_result"
    }
   ],
   "source": [
    "inputFile = \"./inputImages.csv\"\n",
    "df = pd.read_csv(inputFile)\n",
    "df"
   ]
  },
  {
   "cell_type": "markdown",
   "id": "bc5bc86b-c46e-4829-94ce-c08dc81df9de",
   "metadata": {},
   "source": [
    "#### Run pose detection of mediapipe"
   ]
  },
  {
   "cell_type": "code",
   "execution_count": 31,
   "id": "b569f506-d03f-4134-b780-faec47ddb550",
   "metadata": {},
   "outputs": [],
   "source": [
    "kpMapIndex = [\n",
    "    0, # Nose\n",
    "    2, # Left eye\n",
    "    5, # Right eye \n",
    "    7, # Left ear\n",
    "    8, # Right ear\n",
    "    11, # Left shoulder\n",
    "    12, # Right shoulder\n",
    "    13, # Left elbow\n",
    "    14, # Right elbow\n",
    "    15, # Left wrist\n",
    "    16, # Right wrist\n",
    "    23, # Left hip\n",
    "    24, # Right hip\n",
    "    25, # Left knee\n",
    "    26, # Right knee\n",
    "    27, # Left ankle\n",
    "    28  # Right ankle\n",
    "]\n",
    "\n",
    "def convertToCOCOKeypoint(imageId, landmarks, width, height):\n",
    "    try:\n",
    "        keypoint = []\n",
    "        total = 0;        \n",
    "        for mapIdx in kpMapIndex:\n",
    "            landmark = landmarks.landmark[mapIdx]\n",
    "            keypoint.append(int(landmark.x * width))\n",
    "            keypoint.append(int(landmark.y * height))\n",
    "            keypoint.append(1)\n",
    "            total += landmark.visibility\n",
    "        return {\n",
    "            \"image_id\" : imageId,\n",
    "            \"category_id\" : 1,\n",
    "            \"keypoints\" : keypoint,\n",
    "            \"score\" : total / 17\n",
    "        }\n",
    "    except:\n",
    "        return {\n",
    "            \"image_id\" : imageId,\n",
    "            \"category_id\" : 1,\n",
    "            \"keypoints\" : [0] * 51,                \n",
    "            \"score\" : 0\n",
    "        }"
   ]
  },
  {
   "cell_type": "code",
   "execution_count": 7,
   "id": "325653f1-6f52-45c7-a956-1b7dcfccffcc",
   "metadata": {},
   "outputs": [],
   "source": [
    "mp_pose = mp.solutions.pose"
   ]
  },
  {
   "cell_type": "code",
   "execution_count": null,
   "id": "b6c7129f-3111-4fbe-8a2c-324ddc802126",
   "metadata": {},
   "outputs": [
    {
     "name": "stdout",
     "output_type": "stream",
     "text": [
      "0\n"
     ]
    }
   ],
   "source": [
    "output = []\n",
    "with mp_pose.Pose(\n",
    "    static_image_mode=True,\n",
    "    model_complexity=2,    \n",
    "    min_detection_confidence=0.5) as pose:\n",
    "        \n",
    "    for idx, row in df.iterrows():    \n",
    "        \n",
    "        if idx%50 == 0:\n",
    "            print(idx)\n",
    "            \n",
    "        imageId = row['imageID']\n",
    "        filename = row['filename']\n",
    "                        \n",
    "        image = cv2.imread('../images/val2017/'+filename)\n",
    "        height, width, _ = image.shape        \n",
    "        image = cv2.cvtColor(image, cv2.COLOR_BGR2RGB)\n",
    "        mpPose = pose.process(image)\n",
    "                        \n",
    "        cocoKeypoint = convertToCOCOKeypoint(imageId, mpPose.pose_landmarks, width, height)                         \n",
    "        output.append(cocoKeypoint)\n",
    "        \n",
    "        #annotatedImage = drawKeypointOnImage(image.copy(), cocoKeypoint[\"keypoints\"])\n",
    "        \n",
    "        #cv2.imwrite(\"./tmp/{}\".format(filename).replace(\".jpg\", \"_mp.jpg\"), annotatedImage)        \n",
    "        #plt.imshow(cv2.cvtColor(annotatedImage, cv2.COLOR_BGR2RGB) )\n",
    "        #plt.show()\n",
    "    print(\"Done\")"
   ]
  },
  {
   "cell_type": "markdown",
   "id": "14fef325-875a-49cb-9c84-f0cc490a6175",
   "metadata": {},
   "source": [
    "#### Save file"
   ]
  },
  {
   "cell_type": "code",
   "execution_count": 22,
   "id": "c18bb85f-3a67-4114-919a-0fa41a7b91e6",
   "metadata": {},
   "outputs": [],
   "source": [
    "with open('./detectedPose.json', 'w') as file:\n",
    "    json.dump(output, file)"
   ]
  },
  {
   "cell_type": "code",
   "execution_count": 29,
   "id": "b76f8587-ed69-4eba-9071-d3b61a4c92db",
   "metadata": {},
   "outputs": [
    {
     "data": {
      "text/plain": [
       "[0, 0, 0]"
      ]
     },
     "execution_count": 29,
     "metadata": {},
     "output_type": "execute_result"
    }
   ],
   "source": [
    "[0] * 3"
   ]
  }
 ],
 "metadata": {
  "kernelspec": {
   "display_name": "Python 3 (ipykernel)",
   "language": "python",
   "name": "python3"
  },
  "language_info": {
   "codemirror_mode": {
    "name": "ipython",
    "version": 3
   },
   "file_extension": ".py",
   "mimetype": "text/x-python",
   "name": "python",
   "nbconvert_exporter": "python",
   "pygments_lexer": "ipython3",
   "version": "3.7.11"
  }
 },
 "nbformat": 4,
 "nbformat_minor": 5
}
