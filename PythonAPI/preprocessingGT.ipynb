{
 "cells": [
  {
   "cell_type": "markdown",
   "id": "58f96ecd-81a5-4eef-aa0e-feb6cba5e03d",
   "metadata": {},
   "source": [
    "# Preprocessing Ground Truth (for only the larget person) \n",
    "\n",
    "### Input\n",
    "* COCO Dataset keypoint annotation json\n",
    "\n",
    "### Output\n",
    "* Same format with input but less keypoints\n",
    "\n",
    "### Criteria\n",
    "* Keep a keypoints of the largest person in a image\n"
   ]
  },
  {
   "cell_type": "code",
   "execution_count": 4,
   "id": "f2d489a9-c920-4f3b-baf5-e7d795edb20e",
   "metadata": {},
   "outputs": [],
   "source": [
    "%matplotlib inline\n",
    "from pycocotools.coco import COCO\n",
    "import skimage.io as io\n",
    "import matplotlib.pyplot as plt\n",
    "import numpy as np\n",
    "import pylab\n",
    "import os.path\n",
    "import pandas as pd\n",
    "import json\n",
    "pylab.rcParams['figure.figsize'] = (8.0, 10.0)\n",
    "\n",
    "\n",
    "# If you got error like \"No module named pycocotools._mask\", then build it by make\n",
    "# cython package should be installed"
   ]
  },
  {
   "cell_type": "markdown",
   "id": "d0a05bbe-c257-4701-aefc-f28aced2fa86",
   "metadata": {},
   "source": [
    "#### Set annotation file path"
   ]
  },
  {
   "cell_type": "code",
   "execution_count": 2,
   "id": "4f1b1518-397e-4aab-99d7-0fc50af01e92",
   "metadata": {},
   "outputs": [
    {
     "name": "stdout",
     "output_type": "stream",
     "text": [
      "../annotations/person_keypoints_val2017.json\n"
     ]
    },
    {
     "data": {
      "text/plain": [
       "True"
      ]
     },
     "execution_count": 2,
     "metadata": {},
     "output_type": "execute_result"
    }
   ],
   "source": [
    "annFolder = \"../annotations\"\n",
    "annFile = \"person_keypoints_val2017.json\"\n",
    "annPath = \"{}/{}\".format(annFolder, annFile)\n",
    "print(annPath)\n",
    "os.path.isfile(annPath)"
   ]
  },
  {
   "cell_type": "code",
   "execution_count": 34,
   "id": "f3e18b43-e559-4007-8b35-7e1caee215da",
   "metadata": {},
   "outputs": [],
   "source": [
    "with open(annPath, 'r') as file:\n",
    "    output = json.load(file)"
   ]
  },
  {
   "cell_type": "code",
   "execution_count": 35,
   "id": "80b787e5-7121-44f7-9c48-235d420ae13b",
   "metadata": {},
   "outputs": [],
   "source": [
    "temp = sorted(output['annotations'], key=lambda x: (x['image_id'], x['area']), reverse = True)\n",
    "lastImageID = -1\n",
    "\n",
    "outputAnnotations = []\n",
    "for t in temp:\n",
    "    curImageID = t['image_id'];\n",
    "    \n",
    "    if lastImageID == curImageID:\n",
    "        continue\n",
    "        \n",
    "    outputAnnotations.append(t)\n",
    "    lastImageID = curImageID\n",
    "    \n",
    "output['annotations'] = sorted(outputAnnotations, key=lambda x: (x['image_id']))    "
   ]
  },
  {
   "cell_type": "code",
   "execution_count": 36,
   "id": "f26d3153-0f76-4f76-b8a1-918ee2b7c622",
   "metadata": {},
   "outputs": [
    {
     "data": {
      "text/plain": [
       "2693"
      ]
     },
     "execution_count": 36,
     "metadata": {},
     "output_type": "execute_result"
    }
   ],
   "source": [
    "len(output['annotations'])"
   ]
  },
  {
   "cell_type": "code",
   "execution_count": 37,
   "id": "22f0f3e9-07e5-41cd-aaac-c420d554e21a",
   "metadata": {},
   "outputs": [],
   "source": [
    "outputPath = annPath.replace(\".json\", \"_1kp.json\")\n",
    "with open(outputPath, 'w') as file:\n",
    "    json.dump(output, file)"
   ]
  },
  {
   "cell_type": "code",
   "execution_count": null,
   "id": "57f4c3ad-5fc3-4ae3-a0c4-aad76dc845ce",
   "metadata": {},
   "outputs": [],
   "source": []
  },
  {
   "cell_type": "code",
   "execution_count": null,
   "id": "d9836b6b-7547-4ec2-85f7-a0a82761d84e",
   "metadata": {},
   "outputs": [],
   "source": []
  }
 ],
 "metadata": {
  "kernelspec": {
   "display_name": "Python 3 (ipykernel)",
   "language": "python",
   "name": "python3"
  },
  "language_info": {
   "codemirror_mode": {
    "name": "ipython",
    "version": 3
   },
   "file_extension": ".py",
   "mimetype": "text/x-python",
   "name": "python",
   "nbconvert_exporter": "python",
   "pygments_lexer": "ipython3",
   "version": "3.7.11"
  }
 },
 "nbformat": 4,
 "nbformat_minor": 5
}
